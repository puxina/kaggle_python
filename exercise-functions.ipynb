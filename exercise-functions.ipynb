{
 "cells": [
  {
   "cell_type": "markdown",
   "id": "4333a92e",
   "metadata": {
    "papermill": {
     "duration": 0.005882,
     "end_time": "2023-05-24T20:08:42.818209",
     "exception": false,
     "start_time": "2023-05-24T20:08:42.812327",
     "status": "completed"
    },
    "tags": []
   },
   "source": [
    "**This notebook is an exercise in the [Intro to Programming](https://www.kaggle.com/learn/intro-to-programming) course.  You can reference the tutorial at [this link](https://www.kaggle.com/alexisbcook/functions).**\n",
    "\n",
    "---\n"
   ]
  },
  {
   "cell_type": "markdown",
   "id": "9dd9c935",
   "metadata": {
    "papermill": {
     "duration": 0.004975,
     "end_time": "2023-05-24T20:08:42.828458",
     "exception": false,
     "start_time": "2023-05-24T20:08:42.823483",
     "status": "completed"
    },
    "tags": []
   },
   "source": [
    "In the tutorial, you learned about functions. In this exercise, you'll write some of your own!\n",
    "\n",
    "# Set up the notebook\n",
    "\n",
    "Run the next code cell without changes to set up the notebook."
   ]
  },
  {
   "cell_type": "code",
   "execution_count": 1,
   "id": "74ae27b4",
   "metadata": {
    "execution": {
     "iopub.execute_input": "2023-05-24T20:08:42.839851Z",
     "iopub.status.busy": "2023-05-24T20:08:42.839461Z",
     "iopub.status.idle": "2023-05-24T20:08:42.897325Z",
     "shell.execute_reply": "2023-05-24T20:08:42.895800Z"
    },
    "papermill": {
     "duration": 0.067035,
     "end_time": "2023-05-24T20:08:42.900402",
     "exception": false,
     "start_time": "2023-05-24T20:08:42.833367",
     "status": "completed"
    },
    "tags": []
   },
   "outputs": [
    {
     "name": "stdout",
     "output_type": "stream",
     "text": [
      "Setup complete.\n"
     ]
    }
   ],
   "source": [
    "# Set up the exercise\n",
    "import math\n",
    "from learntools.core import binder\n",
    "binder.bind(globals())\n",
    "from learntools.intro_to_programming.ex2 import *\n",
    "print('Setup complete.')"
   ]
  },
  {
   "cell_type": "markdown",
   "id": "8d8d1ed8",
   "metadata": {
    "papermill": {
     "duration": 0.004718,
     "end_time": "2023-05-24T20:08:42.910773",
     "exception": false,
     "start_time": "2023-05-24T20:08:42.906055",
     "status": "completed"
    },
    "tags": []
   },
   "source": [
    "# Question 1\n",
    "\n",
    "In the [House Prices - Advanced Regression Techniques competition](https://www.kaggle.com/c/house-prices-advanced-regression-techniques/overview), you need to use information like the number of bedrooms and bathrooms to predict the price of a house.  Inspired by this competition, you'll write your own function to do this.\n",
    "\n",
    "In the next code cell, create a function `get_expected_cost()` that has two arguments:\n",
    "- `beds` - number of bedrooms \n",
    "- `baths` - number of bathrooms\n",
    "\n",
    "It should return the expected cost of a house with that number of bedrooms and bathrooms.  Assume that:\n",
    "- the expected cost for a house with 0 bedrooms and 0 bathrooms is `80000`.  \n",
    "- each bedroom adds `30000` to the expected cost\n",
    "- each bathroom adds `10000` to the expected cost.\n",
    "\n",
    "For instance, \n",
    "- a house with 1 bedroom and 1 bathroom has an expected cost of `120000`, and \n",
    "- a house with 2 bedrooms and 1 bathroom has an expected cost of `150000`."
   ]
  },
  {
   "cell_type": "code",
   "execution_count": 2,
   "id": "7db7f871",
   "metadata": {
    "execution": {
     "iopub.execute_input": "2023-05-24T20:08:42.923876Z",
     "iopub.status.busy": "2023-05-24T20:08:42.923483Z",
     "iopub.status.idle": "2023-05-24T20:08:42.933274Z",
     "shell.execute_reply": "2023-05-24T20:08:42.932623Z"
    },
    "papermill": {
     "duration": 0.019332,
     "end_time": "2023-05-24T20:08:42.934891",
     "exception": false,
     "start_time": "2023-05-24T20:08:42.915559",
     "status": "completed"
    },
    "tags": []
   },
   "outputs": [
    {
     "data": {
      "application/javascript": [
       "parent.postMessage({\"jupyterEvent\": \"custom.exercise_interaction\", \"data\": {\"outcomeType\": 1, \"valueTowardsCompletion\": 0.2, \"interactionType\": 1, \"questionType\": 2, \"questionId\": \"1_GetExpectedCost\", \"learnToolsVersion\": \"0.3.4\", \"failureMessage\": \"\", \"exceptionClass\": \"\", \"trace\": \"\"}}, \"*\")"
      ],
      "text/plain": [
       "<IPython.core.display.Javascript object>"
      ]
     },
     "metadata": {},
     "output_type": "display_data"
    },
    {
     "data": {
      "text/markdown": [
       "<span style=\"color:#33cc33\">Correct</span>"
      ],
      "text/plain": [
       "Correct"
      ]
     },
     "metadata": {},
     "output_type": "display_data"
    }
   ],
   "source": [
    "# TODO: Complete the function\n",
    "def get_expected_cost(beds, baths):\n",
    "    value = 80000 + beds*30000 + baths*10000\n",
    "    return value\n",
    "\n",
    "# Check your answer \n",
    "q1.check()"
   ]
  },
  {
   "cell_type": "code",
   "execution_count": 3,
   "id": "f8682067",
   "metadata": {
    "execution": {
     "iopub.execute_input": "2023-05-24T20:08:42.947508Z",
     "iopub.status.busy": "2023-05-24T20:08:42.946931Z",
     "iopub.status.idle": "2023-05-24T20:08:42.950211Z",
     "shell.execute_reply": "2023-05-24T20:08:42.949583Z"
    },
    "papermill": {
     "duration": 0.012452,
     "end_time": "2023-05-24T20:08:42.952687",
     "exception": false,
     "start_time": "2023-05-24T20:08:42.940235",
     "status": "completed"
    },
    "tags": []
   },
   "outputs": [],
   "source": [
    "# Uncomment to see a hint\n",
    "#q1.hint()\n",
    "\n",
    "# Uncomment to view the solution\n",
    "#q1.solution()"
   ]
  },
  {
   "cell_type": "markdown",
   "id": "37cd8a74",
   "metadata": {
    "papermill": {
     "duration": 0.005465,
     "end_time": "2023-05-24T20:08:42.964531",
     "exception": false,
     "start_time": "2023-05-24T20:08:42.959066",
     "status": "completed"
    },
    "tags": []
   },
   "source": [
    "# Question 2\n",
    "\n",
    "You are thinking about buying a home and want to get an idea of how much you will spend, based on the number of bedrooms and bathrooms.  You are trying to decide between four different options:\n",
    "- Option 1: house with two bedrooms and three bathrooms\n",
    "- Option 2: house with three bedrooms and two bathrooms\n",
    "- Option 3: house with three bedrooms and three bathrooms\n",
    "- Option 4: house with three bedrooms and four bathrooms\n",
    "\n",
    "Use the `get_expected_cost()` function you defined in question 1 to set `option_1`, `option_2`, `option_3`, and `option_4` to the expected cost of each option."
   ]
  },
  {
   "cell_type": "code",
   "execution_count": 4,
   "id": "6a0cebe6",
   "metadata": {
    "execution": {
     "iopub.execute_input": "2023-05-24T20:08:42.977967Z",
     "iopub.status.busy": "2023-05-24T20:08:42.977331Z",
     "iopub.status.idle": "2023-05-24T20:08:42.986523Z",
     "shell.execute_reply": "2023-05-24T20:08:42.985544Z"
    },
    "papermill": {
     "duration": 0.01914,
     "end_time": "2023-05-24T20:08:42.989289",
     "exception": false,
     "start_time": "2023-05-24T20:08:42.970149",
     "status": "completed"
    },
    "tags": []
   },
   "outputs": [
    {
     "name": "stdout",
     "output_type": "stream",
     "text": [
      "170000\n",
      "190000\n",
      "200000\n",
      "210000\n"
     ]
    },
    {
     "data": {
      "application/javascript": [
       "parent.postMessage({\"jupyterEvent\": \"custom.exercise_interaction\", \"data\": {\"outcomeType\": 1, \"valueTowardsCompletion\": 0.2, \"interactionType\": 1, \"questionType\": 1, \"questionId\": \"2_RunGetExpectedCost\", \"learnToolsVersion\": \"0.3.4\", \"failureMessage\": \"\", \"exceptionClass\": \"\", \"trace\": \"\"}}, \"*\")"
      ],
      "text/plain": [
       "<IPython.core.display.Javascript object>"
      ]
     },
     "metadata": {},
     "output_type": "display_data"
    },
    {
     "data": {
      "text/markdown": [
       "<span style=\"color:#33cc33\">Correct</span>"
      ],
      "text/plain": [
       "Correct"
      ]
     },
     "metadata": {},
     "output_type": "display_data"
    }
   ],
   "source": [
    "# TODO: Use the get_expected_cost function to fill in each value\n",
    "option_one = get_expected_cost(2, 3)\n",
    "option_two = get_expected_cost(3, 2)\n",
    "option_three = get_expected_cost(3, 3)\n",
    "option_four = get_expected_cost(3, 4)\n",
    "\n",
    "print(option_one)\n",
    "print(option_two)\n",
    "print(option_three)\n",
    "print(option_four)\n",
    "\n",
    "# Check your answer\n",
    "q2.check()"
   ]
  },
  {
   "cell_type": "code",
   "execution_count": 5,
   "id": "a3463143",
   "metadata": {
    "execution": {
     "iopub.execute_input": "2023-05-24T20:08:43.002921Z",
     "iopub.status.busy": "2023-05-24T20:08:43.002536Z",
     "iopub.status.idle": "2023-05-24T20:08:43.007015Z",
     "shell.execute_reply": "2023-05-24T20:08:43.005668Z"
    },
    "papermill": {
     "duration": 0.013364,
     "end_time": "2023-05-24T20:08:43.008999",
     "exception": false,
     "start_time": "2023-05-24T20:08:42.995635",
     "status": "completed"
    },
    "tags": []
   },
   "outputs": [],
   "source": [
    "# Uncomment to see a hint\n",
    "#q2.hint()\n",
    "\n",
    "# Uncomment to view the solution\n",
    "#q2.solution()"
   ]
  },
  {
   "cell_type": "markdown",
   "id": "0ec7c5d1",
   "metadata": {
    "papermill": {
     "duration": 0.005224,
     "end_time": "2023-05-24T20:08:43.020077",
     "exception": false,
     "start_time": "2023-05-24T20:08:43.014853",
     "status": "completed"
    },
    "tags": []
   },
   "source": [
    "# Question 3\n",
    "\n",
    "You're a home decorator, and you'd like to use Python to streamline some of your work.  Specifically, you're creating a tool that you intend to use to calculate the cost of painting a room.\n",
    "\n",
    "As a first step, define a function `get_cost()` that takes as input:\n",
    "- `sqft_walls` = total square feet of walls to be painted\n",
    "- `sqft_ceiling` = square feet of ceiling to be painted\n",
    "- `sqft_per_gallon` = number of square feet that you can cover with one gallon of paint\n",
    "- `cost_per_gallon` = cost (in dollars) of one gallon of paint\n",
    "\n",
    "It should return the cost (in dollars) of putting one coat of paint on all walls and the ceiling.  Assume you can buy the exact amount of paint that you need, so you can buy partial gallons (e.g., if you need 7.523 gallons, you can buy that exact amount, instead of needing to buy 8 gallons and waste some paint).  Do not round your answer."
   ]
  },
  {
   "cell_type": "code",
   "execution_count": 6,
   "id": "7999a127",
   "metadata": {
    "execution": {
     "iopub.execute_input": "2023-05-24T20:08:43.032982Z",
     "iopub.status.busy": "2023-05-24T20:08:43.032266Z",
     "iopub.status.idle": "2023-05-24T20:08:43.041322Z",
     "shell.execute_reply": "2023-05-24T20:08:43.040035Z"
    },
    "papermill": {
     "duration": 0.018379,
     "end_time": "2023-05-24T20:08:43.043932",
     "exception": false,
     "start_time": "2023-05-24T20:08:43.025553",
     "status": "completed"
    },
    "tags": []
   },
   "outputs": [
    {
     "data": {
      "application/javascript": [
       "parent.postMessage({\"jupyterEvent\": \"custom.exercise_interaction\", \"data\": {\"outcomeType\": 1, \"valueTowardsCompletion\": 0.2, \"interactionType\": 1, \"questionType\": 2, \"questionId\": \"3_GetCostPaint\", \"learnToolsVersion\": \"0.3.4\", \"failureMessage\": \"\", \"exceptionClass\": \"\", \"trace\": \"\"}}, \"*\")"
      ],
      "text/plain": [
       "<IPython.core.display.Javascript object>"
      ]
     },
     "metadata": {},
     "output_type": "display_data"
    },
    {
     "data": {
      "text/markdown": [
       "<span style=\"color:#33cc33\">Correct</span>"
      ],
      "text/plain": [
       "Correct"
      ]
     },
     "metadata": {},
     "output_type": "display_data"
    }
   ],
   "source": [
    "# TODO: Finish defining the function\n",
    "def get_cost(sqft_walls, sqft_ceiling, sqft_per_gallon, cost_per_gallon):\n",
    "    cost = (sqft_walls + sqft_ceiling)/sqft_per_gallon * cost_per_gallon\n",
    "    return cost\n",
    "\n",
    "# Check your answer\n",
    "q3.check()"
   ]
  },
  {
   "cell_type": "code",
   "execution_count": 7,
   "id": "7b64a797",
   "metadata": {
    "execution": {
     "iopub.execute_input": "2023-05-24T20:08:43.059555Z",
     "iopub.status.busy": "2023-05-24T20:08:43.058677Z",
     "iopub.status.idle": "2023-05-24T20:08:43.063445Z",
     "shell.execute_reply": "2023-05-24T20:08:43.062267Z"
    },
    "papermill": {
     "duration": 0.015473,
     "end_time": "2023-05-24T20:08:43.066344",
     "exception": false,
     "start_time": "2023-05-24T20:08:43.050871",
     "status": "completed"
    },
    "tags": []
   },
   "outputs": [],
   "source": [
    "# Uncomment to see a hint\n",
    "#q3.hint()\n",
    "\n",
    "# Uncomment to view the solution\n",
    "#q3.solution()"
   ]
  },
  {
   "cell_type": "markdown",
   "id": "06c2c6a6",
   "metadata": {
    "papermill": {
     "duration": 0.005547,
     "end_time": "2023-05-24T20:08:43.078199",
     "exception": false,
     "start_time": "2023-05-24T20:08:43.072652",
     "status": "completed"
    },
    "tags": []
   },
   "source": [
    "# Question 4\n",
    "\n",
    "Use the `get_cost()` function you defined in Question 3 to calculate the cost of applying one coat of paint to a room with:\n",
    "- 432 square feet of walls, and\n",
    "- 144 square feet of ceiling.\n",
    "\n",
    "Assume that one gallon of paint covers 400 square feet and costs $15.  As in Question 3, assume you can buy partial gallons of paint.  Do not round your answer."
   ]
  },
  {
   "cell_type": "code",
   "execution_count": 8,
   "id": "2ca627d1",
   "metadata": {
    "execution": {
     "iopub.execute_input": "2023-05-24T20:08:43.091857Z",
     "iopub.status.busy": "2023-05-24T20:08:43.091187Z",
     "iopub.status.idle": "2023-05-24T20:08:43.100372Z",
     "shell.execute_reply": "2023-05-24T20:08:43.099062Z"
    },
    "papermill": {
     "duration": 0.018279,
     "end_time": "2023-05-24T20:08:43.102329",
     "exception": false,
     "start_time": "2023-05-24T20:08:43.084050",
     "status": "completed"
    },
    "tags": []
   },
   "outputs": [
    {
     "name": "stdout",
     "output_type": "stream",
     "text": [
      "21.599999999999998\n"
     ]
    },
    {
     "data": {
      "application/javascript": [
       "parent.postMessage({\"jupyterEvent\": \"custom.exercise_interaction\", \"data\": {\"outcomeType\": 1, \"valueTowardsCompletion\": 0.2, \"interactionType\": 1, \"questionType\": 1, \"questionId\": \"4_GetCostPaintExample\", \"learnToolsVersion\": \"0.3.4\", \"failureMessage\": \"\", \"exceptionClass\": \"\", \"trace\": \"\"}}, \"*\")"
      ],
      "text/plain": [
       "<IPython.core.display.Javascript object>"
      ]
     },
     "metadata": {},
     "output_type": "display_data"
    },
    {
     "data": {
      "text/markdown": [
       "<span style=\"color:#33cc33\">Correct</span>"
      ],
      "text/plain": [
       "Correct"
      ]
     },
     "metadata": {},
     "output_type": "display_data"
    }
   ],
   "source": [
    "# TODO: Set the project_cost variable to the cost of the project\n",
    "project_cost = get_cost(432, 144, 400, 15)\n",
    "print(project_cost)\n",
    "\n",
    "# Check your answer\n",
    "q4.check()"
   ]
  },
  {
   "cell_type": "code",
   "execution_count": 9,
   "id": "6b795f5b",
   "metadata": {
    "execution": {
     "iopub.execute_input": "2023-05-24T20:08:43.116671Z",
     "iopub.status.busy": "2023-05-24T20:08:43.116252Z",
     "iopub.status.idle": "2023-05-24T20:08:43.120528Z",
     "shell.execute_reply": "2023-05-24T20:08:43.119545Z"
    },
    "papermill": {
     "duration": 0.014386,
     "end_time": "2023-05-24T20:08:43.123035",
     "exception": false,
     "start_time": "2023-05-24T20:08:43.108649",
     "status": "completed"
    },
    "tags": []
   },
   "outputs": [],
   "source": [
    "# Uncomment to see a hint\n",
    "#q4.hint()\n",
    "\n",
    "# Uncomment to view the solution\n",
    "#q4.solution()"
   ]
  },
  {
   "cell_type": "markdown",
   "id": "b3f78235",
   "metadata": {
    "papermill": {
     "duration": 0.005702,
     "end_time": "2023-05-24T20:08:43.135407",
     "exception": false,
     "start_time": "2023-05-24T20:08:43.129705",
     "status": "completed"
    },
    "tags": []
   },
   "source": [
    "# 🌶️ Question 5\n",
    "\n",
    "Now say you can no longer buy fractions of a gallon.  (For instance, if you need 4.3 gallons to do a project, then you have to buy 5 gallons of paint.)\n",
    "\n",
    "With this new scenario, you will create a new function `get_actual_cost` that uses the same inputs and calculates the cost of your project.\n",
    "\n",
    "One function that you'll need to use to do this is `math.ceil()`.  We demonstrate usage of this function in the code cell below.  It takes as a number as input and rounds the number up to the nearest integer.  \n",
    "\n",
    "Run the next code cell to test this function for yourself.  Feel free to change the value of `test_value` and make sure `math.ceil()` returns the number you expect."
   ]
  },
  {
   "cell_type": "code",
   "execution_count": 10,
   "id": "c5220424",
   "metadata": {
    "execution": {
     "iopub.execute_input": "2023-05-24T20:08:43.149397Z",
     "iopub.status.busy": "2023-05-24T20:08:43.149051Z",
     "iopub.status.idle": "2023-05-24T20:08:43.154510Z",
     "shell.execute_reply": "2023-05-24T20:08:43.153168Z"
    },
    "papermill": {
     "duration": 0.015675,
     "end_time": "2023-05-24T20:08:43.157047",
     "exception": false,
     "start_time": "2023-05-24T20:08:43.141372",
     "status": "completed"
    },
    "tags": []
   },
   "outputs": [
    {
     "name": "stdout",
     "output_type": "stream",
     "text": [
      "3\n"
     ]
    }
   ],
   "source": [
    "test_value = 2.17\n",
    "\n",
    "rounded_value = math.ceil(test_value)\n",
    "print(rounded_value)"
   ]
  },
  {
   "cell_type": "markdown",
   "id": "34b605c6",
   "metadata": {
    "papermill": {
     "duration": 0.005783,
     "end_time": "2023-05-24T20:08:43.169420",
     "exception": false,
     "start_time": "2023-05-24T20:08:43.163637",
     "status": "completed"
    },
    "tags": []
   },
   "source": [
    "Use the next code cell to define the function `get_actual_cost()`.  You'll need to use the `math.ceil()` function to do this.\n",
    "\n",
    "When answering this question, note that it's completely valid to define a function that makes use of another function.  For instance, we can define a function `round_up_and_divide_by_three` that makes use of the `math.ceil` function:\n",
    "```\n",
    "def round_up_and_divide_by_three(num):\n",
    "    new_value = math.ceil(num)\n",
    "    final_value = new_value / 3\n",
    "    return final_value\n",
    "```"
   ]
  },
  {
   "cell_type": "code",
   "execution_count": 11,
   "id": "ddc43914",
   "metadata": {
    "execution": {
     "iopub.execute_input": "2023-05-24T20:08:43.183643Z",
     "iopub.status.busy": "2023-05-24T20:08:43.183292Z",
     "iopub.status.idle": "2023-05-24T20:08:43.193424Z",
     "shell.execute_reply": "2023-05-24T20:08:43.192122Z"
    },
    "papermill": {
     "duration": 0.01985,
     "end_time": "2023-05-24T20:08:43.195476",
     "exception": false,
     "start_time": "2023-05-24T20:08:43.175626",
     "status": "completed"
    },
    "tags": []
   },
   "outputs": [
    {
     "data": {
      "application/javascript": [
       "parent.postMessage({\"jupyterEvent\": \"custom.exercise_interaction\", \"data\": {\"outcomeType\": 1, \"valueTowardsCompletion\": 0.2, \"interactionType\": 1, \"questionType\": 2, \"questionId\": \"5_NoMoreFractions\", \"learnToolsVersion\": \"0.3.4\", \"failureMessage\": \"\", \"exceptionClass\": \"\", \"trace\": \"\"}}, \"*\")"
      ],
      "text/plain": [
       "<IPython.core.display.Javascript object>"
      ]
     },
     "metadata": {},
     "output_type": "display_data"
    },
    {
     "data": {
      "text/markdown": [
       "<span style=\"color:#33cc33\">Correct</span>"
      ],
      "text/plain": [
       "Correct"
      ]
     },
     "metadata": {},
     "output_type": "display_data"
    }
   ],
   "source": [
    "def get_actual_cost(sqft_walls, sqft_ceiling, sqft_per_gallon, cost_per_gallon):\n",
    "    cost = math.ceil((sqft_walls + sqft_ceiling)/sqft_per_gallon) * cost_per_gallon\n",
    "    return cost\n",
    "\n",
    "# Check your answer\n",
    "q5.check()"
   ]
  },
  {
   "cell_type": "code",
   "execution_count": 12,
   "id": "b3df82a6",
   "metadata": {
    "execution": {
     "iopub.execute_input": "2023-05-24T20:08:43.211140Z",
     "iopub.status.busy": "2023-05-24T20:08:43.210668Z",
     "iopub.status.idle": "2023-05-24T20:08:43.215326Z",
     "shell.execute_reply": "2023-05-24T20:08:43.214193Z"
    },
    "papermill": {
     "duration": 0.01551,
     "end_time": "2023-05-24T20:08:43.217895",
     "exception": false,
     "start_time": "2023-05-24T20:08:43.202385",
     "status": "completed"
    },
    "tags": []
   },
   "outputs": [],
   "source": [
    "# Uncomment to see a hint\n",
    "#q5.hint()\n",
    "\n",
    "# Uncomment to view the solution\n",
    "#q5.solution()"
   ]
  },
  {
   "cell_type": "markdown",
   "id": "fe38328a",
   "metadata": {
    "papermill": {
     "duration": 0.006526,
     "end_time": "2023-05-24T20:08:43.231440",
     "exception": false,
     "start_time": "2023-05-24T20:08:43.224914",
     "status": "completed"
    },
    "tags": []
   },
   "source": [
    "Once your function is verified as correct, run the next code cell to calculate the updated cost of your project."
   ]
  },
  {
   "cell_type": "code",
   "execution_count": 13,
   "id": "3e425e1a",
   "metadata": {
    "execution": {
     "iopub.execute_input": "2023-05-24T20:08:43.246265Z",
     "iopub.status.busy": "2023-05-24T20:08:43.245876Z",
     "iopub.status.idle": "2023-05-24T20:08:43.252441Z",
     "shell.execute_reply": "2023-05-24T20:08:43.251407Z"
    },
    "papermill": {
     "duration": 0.01623,
     "end_time": "2023-05-24T20:08:43.254351",
     "exception": false,
     "start_time": "2023-05-24T20:08:43.238121",
     "status": "completed"
    },
    "tags": []
   },
   "outputs": [
    {
     "data": {
      "text/plain": [
       "30"
      ]
     },
     "execution_count": 13,
     "metadata": {},
     "output_type": "execute_result"
    }
   ],
   "source": [
    "get_actual_cost(432, 144, 400, 15) "
   ]
  },
  {
   "cell_type": "markdown",
   "id": "73b1ddf1",
   "metadata": {
    "papermill": {
     "duration": 0.006722,
     "end_time": "2023-05-24T20:08:43.268155",
     "exception": false,
     "start_time": "2023-05-24T20:08:43.261433",
     "status": "completed"
    },
    "tags": []
   },
   "source": [
    "Say you're working with a slightly larger room.  Run the next code cell to calculate the cost of the project."
   ]
  },
  {
   "cell_type": "code",
   "execution_count": 14,
   "id": "826f2c77",
   "metadata": {
    "execution": {
     "iopub.execute_input": "2023-05-24T20:08:43.283636Z",
     "iopub.status.busy": "2023-05-24T20:08:43.283195Z",
     "iopub.status.idle": "2023-05-24T20:08:43.292185Z",
     "shell.execute_reply": "2023-05-24T20:08:43.290478Z"
    },
    "papermill": {
     "duration": 0.01939,
     "end_time": "2023-05-24T20:08:43.294513",
     "exception": false,
     "start_time": "2023-05-24T20:08:43.275123",
     "status": "completed"
    },
    "tags": []
   },
   "outputs": [
    {
     "data": {
      "text/plain": [
       "45"
      ]
     },
     "execution_count": 14,
     "metadata": {},
     "output_type": "execute_result"
    }
   ],
   "source": [
    "get_actual_cost(594, 288, 400, 15) "
   ]
  },
  {
   "cell_type": "markdown",
   "id": "0166258d",
   "metadata": {
    "papermill": {
     "duration": 0.006462,
     "end_time": "2023-05-24T20:08:43.308209",
     "exception": false,
     "start_time": "2023-05-24T20:08:43.301747",
     "status": "completed"
    },
    "tags": []
   },
   "source": [
    "# Keep going\n",
    "\n",
    "Continue to learn about **[data types](https://www.kaggle.com/alexisbcook/data-types)**."
   ]
  },
  {
   "cell_type": "markdown",
   "id": "5a5de13a",
   "metadata": {
    "papermill": {
     "duration": 0.006068,
     "end_time": "2023-05-24T20:08:43.320655",
     "exception": false,
     "start_time": "2023-05-24T20:08:43.314587",
     "status": "completed"
    },
    "tags": []
   },
   "source": [
    "---\n",
    "\n",
    "\n",
    "\n",
    "\n",
    "*Have questions or comments? Visit the [course discussion forum](https://www.kaggle.com/learn/intro-to-programming/discussion) to chat with other learners.*"
   ]
  }
 ],
 "metadata": {
  "kernelspec": {
   "display_name": "Python 3",
   "language": "python",
   "name": "python3"
  },
  "language_info": {
   "codemirror_mode": {
    "name": "ipython",
    "version": 3
   },
   "file_extension": ".py",
   "mimetype": "text/x-python",
   "name": "python",
   "nbconvert_exporter": "python",
   "pygments_lexer": "ipython3",
   "version": "3.10.10"
  },
  "papermill": {
   "default_parameters": {},
   "duration": 14.054801,
   "end_time": "2023-05-24T20:08:44.250609",
   "environment_variables": {},
   "exception": null,
   "input_path": "__notebook__.ipynb",
   "output_path": "__notebook__.ipynb",
   "parameters": {},
   "start_time": "2023-05-24T20:08:30.195808",
   "version": "2.4.0"
  }
 },
 "nbformat": 4,
 "nbformat_minor": 5
}
